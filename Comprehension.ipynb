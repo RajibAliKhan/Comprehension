{
 "cells": [
  {
   "cell_type": "code",
   "execution_count": 1,
   "id": "14732e8c-2a67-4c79-9ec7-a6e45fad1094",
   "metadata": {},
   "outputs": [
    {
     "data": {
      "text/plain": [
       "[1, 25, 81, 49, 36]"
      ]
     },
     "execution_count": 1,
     "metadata": {},
     "output_type": "execute_result"
    }
   ],
   "source": [
    "l = [1,5,9,7,6]\n",
    "l1 = []\n",
    "for i in l :\n",
    "    l1.append(i**2)\n",
    "l1"
   ]
  },
  {
   "cell_type": "code",
   "execution_count": 5,
   "id": "55ae472e-5b02-4278-bc67-3baa93310752",
   "metadata": {},
   "outputs": [
    {
     "data": {
      "text/plain": [
       "[1, 25, 81, 49, 36]"
      ]
     },
     "execution_count": 5,
     "metadata": {},
     "output_type": "execute_result"
    }
   ],
   "source": [
    "l1"
   ]
  },
  {
   "cell_type": "code",
   "execution_count": 2,
   "id": "e1d5f619-ceab-450d-9fce-1aaa6b825435",
   "metadata": {},
   "outputs": [
    {
     "data": {
      "text/plain": [
       "[1, 5, 9, 7, 6]"
      ]
     },
     "execution_count": 2,
     "metadata": {},
     "output_type": "execute_result"
    }
   ],
   "source": [
    "l"
   ]
  },
  {
   "cell_type": "code",
   "execution_count": 7,
   "id": "e8b42b49-8b5c-4086-84d1-97ebb13b469a",
   "metadata": {},
   "outputs": [
    {
     "name": "stdout",
     "output_type": "stream",
     "text": [
      "1\n",
      "25\n",
      "81\n",
      "49\n",
      "36\n"
     ]
    }
   ],
   "source": [
    "for i in l :\n",
    "    print(i**2)"
   ]
  },
  {
   "cell_type": "code",
   "execution_count": 7,
   "id": "d4d97c8f-73c0-431b-9147-267ce5f75389",
   "metadata": {},
   "outputs": [
    {
     "data": {
      "text/plain": [
       "[1, 25, 81, 49, 36]"
      ]
     },
     "execution_count": 7,
     "metadata": {},
     "output_type": "execute_result"
    }
   ],
   "source": [
    "[i**2 for i in l]"
   ]
  },
  {
   "cell_type": "code",
   "execution_count": 8,
   "id": "157b26fc-8717-4b19-a053-c1e8df47cbfc",
   "metadata": {},
   "outputs": [
    {
     "data": {
      "text/plain": [
       "[1, 5, 9, 7, 6]"
      ]
     },
     "execution_count": 8,
     "metadata": {},
     "output_type": "execute_result"
    }
   ],
   "source": [
    "l"
   ]
  },
  {
   "cell_type": "code",
   "execution_count": 10,
   "id": "04899039-a5cd-485f-8d35-f5acebdbfb49",
   "metadata": {},
   "outputs": [
    {
     "data": {
      "text/plain": [
       "[6]"
      ]
     },
     "execution_count": 10,
     "metadata": {},
     "output_type": "execute_result"
    }
   ],
   "source": [
    "[i for i in l if i % 2 == 0]"
   ]
  },
  {
   "cell_type": "code",
   "execution_count": 11,
   "id": "7ba44f44-9104-4f1f-9e19-84e6a6011cb4",
   "metadata": {},
   "outputs": [],
   "source": [
    "l2 = [\"rajib\",\"data\"]"
   ]
  },
  {
   "cell_type": "code",
   "execution_count": 12,
   "id": "eeae7589-9061-43d8-8175-8da7d29bc6ad",
   "metadata": {},
   "outputs": [
    {
     "data": {
      "text/plain": [
       "['RAJIB', 'DATA']"
      ]
     },
     "execution_count": 12,
     "metadata": {},
     "output_type": "execute_result"
    }
   ],
   "source": [
    "[i.upper() for i in l2]"
   ]
  },
  {
   "cell_type": "code",
   "execution_count": 1,
   "id": "c7fc7451-38cb-4baf-8798-3d76b1741c21",
   "metadata": {},
   "outputs": [],
   "source": [
    "d = {\"key\" : 1, \"key\" : 2, \"key\" :3}"
   ]
  },
  {
   "cell_type": "code",
   "execution_count": null,
   "id": "3ff82d68-58c8-4037-a781-af2742af1e92",
   "metadata": {},
   "outputs": [],
   "source": [
    "for k, v in d.items()"
   ]
  },
  {
   "cell_type": "code",
   "execution_count": 2,
   "id": "ab2ef021-5365-4e89-b7a1-7ec1417322c4",
   "metadata": {},
   "outputs": [
    {
     "data": {
      "text/plain": [
       "dict_items([('key', 3)])"
      ]
     },
     "execution_count": 2,
     "metadata": {},
     "output_type": "execute_result"
    }
   ],
   "source": [
    "d.items()"
   ]
  },
  {
   "cell_type": "code",
   "execution_count": 9,
   "id": "82a7cc41-1340-43bf-af53-1293605b727f",
   "metadata": {},
   "outputs": [
    {
     "data": {
      "text/plain": [
       "[64, 8, 64, 216]"
      ]
     },
     "execution_count": 9,
     "metadata": {},
     "output_type": "execute_result"
    }
   ],
   "source": [
    "l = [5,4,2,4,5,6]\n",
    "[i ** 3 for i in l if i % 2 == 0]"
   ]
  },
  {
   "cell_type": "code",
   "execution_count": 10,
   "id": "e2f60900-c4f5-493b-a26d-36e9dc7f65ff",
   "metadata": {},
   "outputs": [
    {
     "data": {
      "text/plain": [
       "['RAJIB', 'KHAN', 'CONTAI', 'RAK']"
      ]
     },
     "execution_count": 10,
     "metadata": {},
     "output_type": "execute_result"
    }
   ],
   "source": [
    "l = ['rajib','khan','contai','rak']\n",
    "[i.upper() for i in l]"
   ]
  },
  {
   "cell_type": "code",
   "execution_count": 11,
   "id": "9ee32de2-4393-48e5-8b83-8f6deeab295e",
   "metadata": {},
   "outputs": [
    {
     "name": "stdout",
     "output_type": "stream",
     "text": [
      "RAJIB\n",
      "KHAN\n",
      "CONTAI\n",
      "RAK\n"
     ]
    }
   ],
   "source": [
    "l = ['rajib','khan','contai','rak']\n",
    "for i in l :\n",
    "    print(i.upper())"
   ]
  },
  {
   "cell_type": "code",
   "execution_count": 12,
   "id": "7f4034c0-5d7c-4fb9-99f5-a381adea0a91",
   "metadata": {},
   "outputs": [],
   "source": [
    "d = {'name' : 'rajib', 'age' : '35'}"
   ]
  },
  {
   "cell_type": "code",
   "execution_count": 13,
   "id": "99b09edf-559d-46de-b421-60be6aeb0633",
   "metadata": {},
   "outputs": [
    {
     "data": {
      "text/plain": [
       "{'name': 'rajib', 'age': '35'}"
      ]
     },
     "execution_count": 13,
     "metadata": {},
     "output_type": "execute_result"
    }
   ],
   "source": [
    "d"
   ]
  },
  {
   "cell_type": "code",
   "execution_count": 16,
   "id": "aeafdc50-251a-4555-9619-30e4c7efaf93",
   "metadata": {},
   "outputs": [
    {
     "data": {
      "text/plain": [
       "['NAME', 'AGE']"
      ]
     },
     "execution_count": 16,
     "metadata": {},
     "output_type": "execute_result"
    }
   ],
   "source": [
    "[i.upper() for i in d]"
   ]
  },
  {
   "cell_type": "code",
   "execution_count": 18,
   "id": "52684e04-c9e0-4368-b65b-41d2ec9dd25b",
   "metadata": {},
   "outputs": [],
   "source": [
    "d = {'k1' : 3,'k2' : 4,'k3' : 6}\n"
   ]
  },
  {
   "cell_type": "code",
   "execution_count": 25,
   "id": "14c14380-6c2d-4b2d-9f60-dd5833b23b2e",
   "metadata": {},
   "outputs": [
    {
     "data": {
      "text/plain": [
       "dict"
      ]
     },
     "execution_count": 25,
     "metadata": {},
     "output_type": "execute_result"
    }
   ],
   "source": [
    "type(d)"
   ]
  },
  {
   "cell_type": "code",
   "execution_count": 28,
   "id": "861e0487-18b2-4050-b351-d46ade6264d1",
   "metadata": {},
   "outputs": [
    {
     "data": {
      "text/plain": [
       "dict_items([('k1', 3), ('k2', 4), ('k3', 6)])"
      ]
     },
     "execution_count": 28,
     "metadata": {},
     "output_type": "execute_result"
    }
   ],
   "source": [
    "d.items()"
   ]
  },
  {
   "cell_type": "code",
   "execution_count": 29,
   "id": "39a06381-e3ba-4659-8a41-4ac3f5701c3c",
   "metadata": {},
   "outputs": [
    {
     "data": {
      "text/plain": [
       "{'k1': 9, 'k2': 16, 'k3': 36}"
      ]
     },
     "execution_count": 29,
     "metadata": {},
     "output_type": "execute_result"
    }
   ],
   "source": [
    "{k : v ** 2 for k, v in d.items()}"
   ]
  },
  {
   "cell_type": "code",
   "execution_count": 30,
   "id": "97eec711-ece2-4fb6-bd34-5fe2c786a759",
   "metadata": {},
   "outputs": [
    {
     "data": {
      "text/plain": [
       "{'k1': 3, 'k2': 4, 'k3': 6}"
      ]
     },
     "execution_count": 30,
     "metadata": {},
     "output_type": "execute_result"
    }
   ],
   "source": [
    "d"
   ]
  },
  {
   "cell_type": "code",
   "execution_count": 33,
   "id": "48f59d96-4023-4b4a-992a-078132cebec3",
   "metadata": {},
   "outputs": [
    {
     "data": {
      "text/plain": [
       "{'k1': True, 'k2': True, 'k3': True}"
      ]
     },
     "execution_count": 33,
     "metadata": {},
     "output_type": "execute_result"
    }
   ],
   "source": [
    "{k : v >= 1 for k, v in d.items()}"
   ]
  },
  {
   "cell_type": "code",
   "execution_count": 34,
   "id": "9277e3a9-c9b5-4af0-844c-91e54bfc9998",
   "metadata": {},
   "outputs": [
    {
     "data": {
      "text/plain": [
       "{'k1': False, 'k2': False, 'k3': False}"
      ]
     },
     "execution_count": 34,
     "metadata": {},
     "output_type": "execute_result"
    }
   ],
   "source": [
    "{k : v <= 1 for k, v in d.items()}"
   ]
  },
  {
   "cell_type": "code",
   "execution_count": 36,
   "id": "b6fc66df-5db8-435a-a495-b84f0a13c03a",
   "metadata": {},
   "outputs": [
    {
     "data": {
      "text/plain": [
       "{'k1': 3, 'k2': 4, 'k3': 6}"
      ]
     },
     "execution_count": 36,
     "metadata": {},
     "output_type": "execute_result"
    }
   ],
   "source": [
    "{k : v for k, v in d.items() if v > 1}"
   ]
  },
  {
   "cell_type": "code",
   "execution_count": null,
   "id": "167579c0-3b2f-41eb-a3e0-6b5de6cf626c",
   "metadata": {},
   "outputs": [],
   "source": []
  }
 ],
 "metadata": {
  "kernelspec": {
   "display_name": "Python 3 (ipykernel)",
   "language": "python",
   "name": "python3"
  },
  "language_info": {
   "codemirror_mode": {
    "name": "ipython",
    "version": 3
   },
   "file_extension": ".py",
   "mimetype": "text/x-python",
   "name": "python",
   "nbconvert_exporter": "python",
   "pygments_lexer": "ipython3",
   "version": "3.10.8"
  }
 },
 "nbformat": 4,
 "nbformat_minor": 5
}
